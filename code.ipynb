{
  "nbformat": 4,
  "nbformat_minor": 0,
  "metadata": {
    "colab": {
      "name": "code.ipynb",
      "provenance": [],
      "include_colab_link": true
    },
    "kernelspec": {
      "name": "python3",
      "display_name": "Python 3"
    },
    "language_info": {
      "name": "python"
    }
  },
  "cells": [
    {
      "cell_type": "markdown",
      "metadata": {
        "id": "view-in-github",
        "colab_type": "text"
      },
      "source": [
        "<a href=\"https://colab.research.google.com/github/namanjuneja771/Automatic-fill-in-the-blanks-solver/blob/main/code.ipynb\" target=\"_parent\"><img src=\"https://colab.research.google.com/assets/colab-badge.svg\" alt=\"Open In Colab\"/></a>"
      ]
    },
    {
      "cell_type": "code",
      "metadata": {
        "colab": {
          "base_uri": "https://localhost:8080/"
        },
        "id": "Orgj00j2GzGE",
        "outputId": "e51ee53e-29c5-4055-b51b-4f74db8bcc82"
      },
      "source": [
        "!sudo apt install tesseract-ocr\n",
        "!pip install pytesseract"
      ],
      "execution_count": null,
      "outputs": [
        {
          "output_type": "stream",
          "text": [
            "Reading package lists... Done\n",
            "Building dependency tree       \n",
            "Reading state information... Done\n",
            "The following additional packages will be installed:\n",
            "  tesseract-ocr-eng tesseract-ocr-osd\n",
            "The following NEW packages will be installed:\n",
            "  tesseract-ocr tesseract-ocr-eng tesseract-ocr-osd\n",
            "0 upgraded, 3 newly installed, 0 to remove and 30 not upgraded.\n",
            "Need to get 4,795 kB of archives.\n",
            "After this operation, 15.8 MB of additional disk space will be used.\n",
            "Get:1 http://archive.ubuntu.com/ubuntu bionic/universe amd64 tesseract-ocr-eng all 4.00~git24-0e00fe6-1.2 [1,588 kB]\n",
            "Get:2 http://archive.ubuntu.com/ubuntu bionic/universe amd64 tesseract-ocr-osd all 4.00~git24-0e00fe6-1.2 [2,989 kB]\n",
            "Get:3 http://archive.ubuntu.com/ubuntu bionic/universe amd64 tesseract-ocr amd64 4.00~git2288-10f4998a-2 [218 kB]\n",
            "Fetched 4,795 kB in 1s (5,330 kB/s)\n",
            "debconf: unable to initialize frontend: Dialog\n",
            "debconf: (No usable dialog-like program is installed, so the dialog based frontend cannot be used. at /usr/share/perl5/Debconf/FrontEnd/Dialog.pm line 76, <> line 3.)\n",
            "debconf: falling back to frontend: Readline\n",
            "debconf: unable to initialize frontend: Readline\n",
            "debconf: (This frontend requires a controlling tty.)\n",
            "debconf: falling back to frontend: Teletype\n",
            "dpkg-preconfigure: unable to re-open stdin: \n",
            "Selecting previously unselected package tesseract-ocr-eng.\n",
            "(Reading database ... 160980 files and directories currently installed.)\n",
            "Preparing to unpack .../tesseract-ocr-eng_4.00~git24-0e00fe6-1.2_all.deb ...\n",
            "Unpacking tesseract-ocr-eng (4.00~git24-0e00fe6-1.2) ...\n",
            "Selecting previously unselected package tesseract-ocr-osd.\n",
            "Preparing to unpack .../tesseract-ocr-osd_4.00~git24-0e00fe6-1.2_all.deb ...\n",
            "Unpacking tesseract-ocr-osd (4.00~git24-0e00fe6-1.2) ...\n",
            "Selecting previously unselected package tesseract-ocr.\n",
            "Preparing to unpack .../tesseract-ocr_4.00~git2288-10f4998a-2_amd64.deb ...\n",
            "Unpacking tesseract-ocr (4.00~git2288-10f4998a-2) ...\n",
            "Setting up tesseract-ocr-osd (4.00~git24-0e00fe6-1.2) ...\n",
            "Setting up tesseract-ocr-eng (4.00~git24-0e00fe6-1.2) ...\n",
            "Setting up tesseract-ocr (4.00~git2288-10f4998a-2) ...\n",
            "Processing triggers for man-db (2.8.3-2ubuntu0.1) ...\n",
            "Collecting pytesseract\n",
            "  Downloading https://files.pythonhosted.org/packages/a0/e6/a4e9fc8a93c1318540e8de6d8d4beb5749b7960388a7c7f27799fc2dd016/pytesseract-0.3.7.tar.gz\n",
            "Requirement already satisfied: Pillow in /usr/local/lib/python3.7/dist-packages (from pytesseract) (7.1.2)\n",
            "Building wheels for collected packages: pytesseract\n",
            "  Building wheel for pytesseract (setup.py) ... \u001b[?25l\u001b[?25hdone\n",
            "  Created wheel for pytesseract: filename=pytesseract-0.3.7-py2.py3-none-any.whl size=13945 sha256=ceb570e12b765b0453c0a0e5ac52b41d5a92d208bcbb5af273ca9c82e2cfc49e\n",
            "  Stored in directory: /root/.cache/pip/wheels/81/20/7e/1dd0daad1575d5260916bb1e9781246430647adaef4b3ca3b3\n",
            "Successfully built pytesseract\n",
            "Installing collected packages: pytesseract\n",
            "Successfully installed pytesseract-0.3.7\n"
          ],
          "name": "stdout"
        }
      ]
    },
    {
      "cell_type": "code",
      "metadata": {
        "id": "pla8i_oeHHEO"
      },
      "source": [
        "import pytesseract\n",
        "import shutil\n",
        "import os\n",
        "import random\n",
        "try:\n",
        " from PIL import Image\n",
        "except ImportError:\n",
        " import Image"
      ],
      "execution_count": null,
      "outputs": []
    },
    {
      "cell_type": "code",
      "metadata": {
        "colab": {
          "base_uri": "https://localhost:8080/"
        },
        "id": "IyseoMGYHLpf",
        "outputId": "19714288-8c94-4d0e-daa5-26ed28220297"
      },
      "source": [
        "image_path_in_colab=\"1.jpg\"\n",
        "str1 = pytesseract.image_to_string(Image.open(image_path_in_colab))\n",
        "print(str1)"
      ],
      "execution_count": null,
      "outputs": [
        {
          "output_type": "stream",
          "text": [
            "Name:\n",
            "\n",
            "Nouns\n",
            "Directions: Circle the words in the box that are nouns. Then, use those nouns to\n",
            "complete the sentences below.\n",
            "\n",
            "book run turtle globe pig\n",
            "\n",
            "ball sing song jump pencil\n",
            "\n",
            "table happy sip hand house\n",
            "\n",
            " \n",
            "\n",
            "1. l used the to draw a picture for my mom.\n",
            "2. Every night, we read a together in bed.\n",
            "3. The dirty, little played in the mud puddle.\n",
            "\n",
            "4. He put the pumpkin pie onto the kitchen,\n",
            "\n",
            "5. We used the in school today to find Africa.\n",
            "\n",
            "6. Sean cut his on the sharp edge of the desk.\n",
            "\n",
            "7. On the PBS animal show, a was rescued.\n",
            "\n",
            "8. My kitty likes to play with his new, rubber\n",
            "\n",
            "9. It was my turn to pick the for our piano teacher.\n",
            "\n",
            "10. Dad wants to paint the blue, but mom doesn’t.\n",
            "\n",
            "©www.HaveFunTeaching.com\n",
            "\f\n"
          ],
          "name": "stdout"
        }
      ]
    },
    {
      "cell_type": "code",
      "metadata": {
        "colab": {
          "base_uri": "https://localhost:8080/"
        },
        "id": "BwcbStiAc147",
        "outputId": "b6af3c73-81ce-47a2-adfb-8a723637bdbd"
      },
      "source": [
        "str1=str1.replace(\"\\n\\n\",\"\\n\")\n",
        "print(str1)"
      ],
      "execution_count": null,
      "outputs": [
        {
          "output_type": "stream",
          "text": [
            "Name:\n",
            "Nouns\n",
            "Directions: Circle the words in the box that are nouns. Then, use those nouns to\n",
            "complete the sentences below.\n",
            "book run turtle globe pig\n",
            "ball sing song jump pencil\n",
            "table happy sip hand house\n",
            " \n",
            "1. l used the to draw a picture for my mom.\n",
            "2. Every night, we read a together in bed.\n",
            "3. The dirty, little played in the mud puddle.\n",
            "4. He put the pumpkin pie onto the kitchen,\n",
            "5. We used the in school today to find Africa.\n",
            "6. Sean cut his on the sharp edge of the desk.\n",
            "7. On the PBS animal show, a was rescued.\n",
            "8. My kitty likes to play with his new, rubber\n",
            "9. It was my turn to pick the for our piano teacher.\n",
            "10. Dad wants to paint the blue, but mom doesn’t.\n",
            "©www.HaveFunTeaching.com\n",
            "\f\n"
          ],
          "name": "stdout"
        }
      ]
    },
    {
      "cell_type": "code",
      "metadata": {
        "colab": {
          "base_uri": "https://localhost:8080/"
        },
        "id": "azz4AKa4eQ3V",
        "outputId": "40541885-ce9c-4904-b57e-f7e06cd9f6b6"
      },
      "source": [
        "temp=str1.split(\"\\n\")\n",
        "print(temp)\n",
        "for row in temp:\n",
        "  print(row)"
      ],
      "execution_count": null,
      "outputs": [
        {
          "output_type": "stream",
          "text": [
            "['Name:', 'Nouns', 'Directions: Circle the words in the box that are nouns. Then, use those nouns to', 'complete the sentences below.', 'book run turtle globe pig', 'ball sing song jump pencil', 'table happy sip hand house', ' ', '1. l used the to draw a picture for my mom.', '2. Every night, we read a together in bed.', '3. The dirty, little played in the mud puddle.', '4. He put the pumpkin pie onto the kitchen,', '5. We used the in school today to find Africa.', '6. Sean cut his on the sharp edge of the desk.', '7. On the PBS animal show, a was rescued.', '8. My kitty likes to play with his new, rubber', '9. It was my turn to pick the for our piano teacher.', '10. Dad wants to paint the blue, but mom doesn’t.', '©www.HaveFunTeaching.com', '\\x0c']\n",
            "Name:\n",
            "Nouns\n",
            "Directions: Circle the words in the box that are nouns. Then, use those nouns to\n",
            "complete the sentences below.\n",
            "book run turtle globe pig\n",
            "ball sing song jump pencil\n",
            "table happy sip hand house\n",
            " \n",
            "1. l used the to draw a picture for my mom.\n",
            "2. Every night, we read a together in bed.\n",
            "3. The dirty, little played in the mud puddle.\n",
            "4. He put the pumpkin pie onto the kitchen,\n",
            "5. We used the in school today to find Africa.\n",
            "6. Sean cut his on the sharp edge of the desk.\n",
            "7. On the PBS animal show, a was rescued.\n",
            "8. My kitty likes to play with his new, rubber\n",
            "9. It was my turn to pick the for our piano teacher.\n",
            "10. Dad wants to paint the blue, but mom doesn’t.\n",
            "©www.HaveFunTeaching.com\n",
            "\f\n"
          ],
          "name": "stdout"
        }
      ]
    },
    {
      "cell_type": "code",
      "metadata": {
        "colab": {
          "base_uri": "https://localhost:8080/"
        },
        "id": "8H_3XGrfehM1",
        "outputId": "724078f0-b160-4881-8c1e-7d4985995cc1"
      },
      "source": [
        "lst1=[]\n",
        "lst2=[]\n",
        "for row in temp:\n",
        "  if(len(row)==0):\n",
        "    continue\n",
        "  if(row[0].isdigit()):\n",
        "    idx=0\n",
        "    while(row[idx].isalpha()==False):\n",
        "      idx+=1\n",
        "    lst2.append(row[idx:])\n",
        "  else:\n",
        "    lst1.append(row)\n",
        "for row in lst1:\n",
        "  print(row)\n",
        "print(\".....\")\n",
        "for row in lst2:\n",
        "  print(row)"
      ],
      "execution_count": null,
      "outputs": [
        {
          "output_type": "stream",
          "text": [
            "Name:\n",
            "Nouns\n",
            "Directions: Circle the words in the box that are nouns. Then, use those nouns to\n",
            "complete the sentences below.\n",
            "book run turtle globe pig\n",
            "ball sing song jump pencil\n",
            "table happy sip hand house\n",
            " \n",
            "©www.HaveFunTeaching.com\n",
            "\f\n",
            ".....\n",
            "l used the to draw a picture for my mom.\n",
            "Every night, we read a together in bed.\n",
            "The dirty, little played in the mud puddle.\n",
            "He put the pumpkin pie onto the kitchen,\n",
            "We used the in school today to find Africa.\n",
            "Sean cut his on the sharp edge of the desk.\n",
            "On the PBS animal show, a was rescued.\n",
            "My kitty likes to play with his new, rubber\n",
            "It was my turn to pick the for our piano teacher.\n",
            "Dad wants to paint the blue, but mom doesn’t.\n"
          ],
          "name": "stdout"
        }
      ]
    },
    {
      "cell_type": "code",
      "metadata": {
        "colab": {
          "base_uri": "https://localhost:8080/"
        },
        "id": "bLV-Ltkhady5",
        "outputId": "9befc3d2-ad16-4de5-f654-2c376e81e8e7"
      },
      "source": [
        "lastdot=-1\n",
        "for i in range(len(lst1)):\n",
        "  if(\".\" in lst1[i] and \"www\" not in lst1[i]):\n",
        "    lastdot=i\n",
        "print(lastdot)\n",
        "words=lst1[lastdot+1:]\n",
        "print(words)\n",
        "for i in range(len(words)):\n",
        "  if(words[i]==\"\" or words[i][0]==\" \"):\n",
        "    words=words[:i]\n",
        "    break\n",
        "wordlst=[]\n",
        "print(wordlst)\n",
        "for row in words:\n",
        "  temp=row.split(\" \")\n",
        "  for wrd in temp:\n",
        "    wordlst.append(wrd)\n",
        "print(wordlst)\n",
        "\n"
      ],
      "execution_count": null,
      "outputs": [
        {
          "output_type": "stream",
          "text": [
            "3\n",
            "['book run turtle globe pig', 'ball sing song jump pencil', 'table happy sip hand house', ' ', '©www.HaveFunTeaching.com', '\\x0c']\n",
            "[]\n",
            "['book', 'run', 'turtle', 'globe', 'pig', 'ball', 'sing', 'song', 'jump', 'pencil', 'table', 'happy', 'sip', 'hand', 'house']\n"
          ],
          "name": "stdout"
        }
      ]
    },
    {
      "cell_type": "code",
      "metadata": {
        "colab": {
          "base_uri": "https://localhost:8080/"
        },
        "id": "3H8JFIG9HvPP",
        "outputId": "f046d4d9-a274-4cdd-ff8c-d697bc7fcf94"
      },
      "source": [
        "!pip install pytorch-pretrained-bert\n",
        "!pip install fitbert"
      ],
      "execution_count": null,
      "outputs": [
        {
          "output_type": "stream",
          "text": [
            "Collecting pytorch-pretrained-bert\n",
            "\u001b[?25l  Downloading https://files.pythonhosted.org/packages/d7/e0/c08d5553b89973d9a240605b9c12404bcf8227590de62bae27acbcfe076b/pytorch_pretrained_bert-0.6.2-py3-none-any.whl (123kB)\n",
            "\r\u001b[K     |██▋                             | 10kB 14.4MB/s eta 0:00:01\r\u001b[K     |█████▎                          | 20kB 19.2MB/s eta 0:00:01\r\u001b[K     |████████                        | 30kB 23.2MB/s eta 0:00:01\r\u001b[K     |██████████▋                     | 40kB 25.3MB/s eta 0:00:01\r\u001b[K     |█████████████▎                  | 51kB 23.7MB/s eta 0:00:01\r\u001b[K     |███████████████▉                | 61kB 20.4MB/s eta 0:00:01\r\u001b[K     |██████████████████▌             | 71kB 19.1MB/s eta 0:00:01\r\u001b[K     |█████████████████████▏          | 81kB 19.2MB/s eta 0:00:01\r\u001b[K     |███████████████████████▉        | 92kB 18.3MB/s eta 0:00:01\r\u001b[K     |██████████████████████████▌     | 102kB 18.0MB/s eta 0:00:01\r\u001b[K     |█████████████████████████████▏  | 112kB 18.0MB/s eta 0:00:01\r\u001b[K     |███████████████████████████████▊| 122kB 18.0MB/s eta 0:00:01\r\u001b[K     |████████████████████████████████| 133kB 18.0MB/s \n",
            "\u001b[?25hRequirement already satisfied: numpy in /usr/local/lib/python3.7/dist-packages (from pytorch-pretrained-bert) (1.19.5)\n",
            "Collecting boto3\n",
            "\u001b[?25l  Downloading https://files.pythonhosted.org/packages/ea/10/a997a266165e2df1976c4fc973f71bcd2e65a255f92d0ff7ab59b2f81989/boto3-1.17.44-py2.py3-none-any.whl (131kB)\n",
            "\u001b[K     |████████████████████████████████| 133kB 29.9MB/s \n",
            "\u001b[?25hRequirement already satisfied: regex in /usr/local/lib/python3.7/dist-packages (from pytorch-pretrained-bert) (2019.12.20)\n",
            "Requirement already satisfied: requests in /usr/local/lib/python3.7/dist-packages (from pytorch-pretrained-bert) (2.23.0)\n",
            "Requirement already satisfied: tqdm in /usr/local/lib/python3.7/dist-packages (from pytorch-pretrained-bert) (4.41.1)\n",
            "Requirement already satisfied: torch>=0.4.1 in /usr/local/lib/python3.7/dist-packages (from pytorch-pretrained-bert) (1.8.1+cu101)\n",
            "Collecting s3transfer<0.4.0,>=0.3.0\n",
            "\u001b[?25l  Downloading https://files.pythonhosted.org/packages/98/14/0b4be62b65c52d6d1c442f24e02d2a9889a73d3c352002e14c70f84a679f/s3transfer-0.3.6-py2.py3-none-any.whl (73kB)\n",
            "\u001b[K     |████████████████████████████████| 81kB 7.6MB/s \n",
            "\u001b[?25hCollecting jmespath<1.0.0,>=0.7.1\n",
            "  Downloading https://files.pythonhosted.org/packages/07/cb/5f001272b6faeb23c1c9e0acc04d48eaaf5c862c17709d20e3469c6e0139/jmespath-0.10.0-py2.py3-none-any.whl\n",
            "Collecting botocore<1.21.0,>=1.20.44\n",
            "\u001b[?25l  Downloading https://files.pythonhosted.org/packages/64/80/3ddbe4ad2561804b887deb8072d802dc24dd759833139a5b91efcff308d6/botocore-1.20.44-py2.py3-none-any.whl (7.4MB)\n",
            "\u001b[K     |████████████████████████████████| 7.4MB 34.1MB/s \n",
            "\u001b[?25hRequirement already satisfied: idna<3,>=2.5 in /usr/local/lib/python3.7/dist-packages (from requests->pytorch-pretrained-bert) (2.10)\n",
            "Requirement already satisfied: urllib3!=1.25.0,!=1.25.1,<1.26,>=1.21.1 in /usr/local/lib/python3.7/dist-packages (from requests->pytorch-pretrained-bert) (1.24.3)\n",
            "Requirement already satisfied: certifi>=2017.4.17 in /usr/local/lib/python3.7/dist-packages (from requests->pytorch-pretrained-bert) (2020.12.5)\n",
            "Requirement already satisfied: chardet<4,>=3.0.2 in /usr/local/lib/python3.7/dist-packages (from requests->pytorch-pretrained-bert) (3.0.4)\n",
            "Requirement already satisfied: typing-extensions in /usr/local/lib/python3.7/dist-packages (from torch>=0.4.1->pytorch-pretrained-bert) (3.7.4.3)\n",
            "Requirement already satisfied: python-dateutil<3.0.0,>=2.1 in /usr/local/lib/python3.7/dist-packages (from botocore<1.21.0,>=1.20.44->boto3->pytorch-pretrained-bert) (2.8.1)\n",
            "Requirement already satisfied: six>=1.5 in /usr/local/lib/python3.7/dist-packages (from python-dateutil<3.0.0,>=2.1->botocore<1.21.0,>=1.20.44->boto3->pytorch-pretrained-bert) (1.15.0)\n",
            "\u001b[31mERROR: botocore 1.20.44 has requirement urllib3<1.27,>=1.25.4, but you'll have urllib3 1.24.3 which is incompatible.\u001b[0m\n",
            "Installing collected packages: jmespath, botocore, s3transfer, boto3, pytorch-pretrained-bert\n",
            "Successfully installed boto3-1.17.44 botocore-1.20.44 jmespath-0.10.0 pytorch-pretrained-bert-0.6.2 s3transfer-0.3.6\n",
            "Collecting fitbert\n",
            "\u001b[?25l  Downloading https://files.pythonhosted.org/packages/03/d3/68708770ff5b41a0f4372706c0489dab254eca07fd110ab2f41047d3fb4b/fitbert-0.9.0.tar.gz (216kB)\n",
            "\u001b[K     |████████████████████████████████| 225kB 23.6MB/s \n",
            "\u001b[?25hRequirement already satisfied: torch>=1.1.0 in /usr/local/lib/python3.7/dist-packages (from fitbert) (1.8.1+cu101)\n",
            "Collecting transformers>=2.1.1\n",
            "\u001b[?25l  Downloading https://files.pythonhosted.org/packages/ed/d5/f4157a376b8a79489a76ce6cfe147f4f3be1e029b7144fa7b8432e8acb26/transformers-4.4.2-py3-none-any.whl (2.0MB)\n",
            "\u001b[K     |████████████████████████████████| 2.0MB 41.0MB/s \n",
            "\u001b[?25hCollecting PyFunctional==1.2.0\n",
            "\u001b[?25l  Downloading https://files.pythonhosted.org/packages/96/80/8edc965035d787105a7c85f4f9c490aea000e004062205699c3b39feb7dc/PyFunctional-1.2.0-py3-none-any.whl (44kB)\n",
            "\u001b[K     |████████████████████████████████| 51kB 5.2MB/s \n",
            "\u001b[?25hRequirement already satisfied: numpy in /usr/local/lib/python3.7/dist-packages (from torch>=1.1.0->fitbert) (1.19.5)\n",
            "Requirement already satisfied: typing-extensions in /usr/local/lib/python3.7/dist-packages (from torch>=1.1.0->fitbert) (3.7.4.3)\n",
            "Requirement already satisfied: importlib-metadata; python_version < \"3.8\" in /usr/local/lib/python3.7/dist-packages (from transformers>=2.1.1->fitbert) (3.8.1)\n",
            "Collecting sacremoses\n",
            "\u001b[?25l  Downloading https://files.pythonhosted.org/packages/08/cd/342e584ee544d044fb573ae697404ce22ede086c9e87ce5960772084cad0/sacremoses-0.0.44.tar.gz (862kB)\n",
            "\u001b[K     |████████████████████████████████| 870kB 40.8MB/s \n",
            "\u001b[?25hCollecting tokenizers<0.11,>=0.10.1\n",
            "\u001b[?25l  Downloading https://files.pythonhosted.org/packages/71/23/2ddc317b2121117bf34dd00f5b0de194158f2a44ee2bf5e47c7166878a97/tokenizers-0.10.1-cp37-cp37m-manylinux2010_x86_64.whl (3.2MB)\n",
            "\u001b[K     |████████████████████████████████| 3.2MB 49.1MB/s \n",
            "\u001b[?25hRequirement already satisfied: filelock in /usr/local/lib/python3.7/dist-packages (from transformers>=2.1.1->fitbert) (3.0.12)\n",
            "Requirement already satisfied: packaging in /usr/local/lib/python3.7/dist-packages (from transformers>=2.1.1->fitbert) (20.9)\n",
            "Requirement already satisfied: regex!=2019.12.17 in /usr/local/lib/python3.7/dist-packages (from transformers>=2.1.1->fitbert) (2019.12.20)\n",
            "Requirement already satisfied: tqdm>=4.27 in /usr/local/lib/python3.7/dist-packages (from transformers>=2.1.1->fitbert) (4.41.1)\n",
            "Requirement already satisfied: requests in /usr/local/lib/python3.7/dist-packages (from transformers>=2.1.1->fitbert) (2.23.0)\n",
            "Requirement already satisfied: tabulate<=1.0.0 in /usr/local/lib/python3.7/dist-packages (from PyFunctional==1.2.0->fitbert) (0.8.9)\n",
            "Requirement already satisfied: future<=1.0.0 in /usr/local/lib/python3.7/dist-packages (from PyFunctional==1.2.0->fitbert) (0.16.0)\n",
            "Collecting dill==0.2.5\n",
            "\u001b[?25l  Downloading https://files.pythonhosted.org/packages/47/59/a72f5c3b17647031d426cd3df6874c7e2a8821b007ef4241ee4a59594cb3/dill-0.2.5.tgz (60kB)\n",
            "\u001b[K     |████████████████████████████████| 61kB 4.9MB/s \n",
            "\u001b[?25hRequirement already satisfied: six<=2.0.0 in /usr/local/lib/python3.7/dist-packages (from PyFunctional==1.2.0->fitbert) (1.15.0)\n",
            "Requirement already satisfied: zipp>=0.5 in /usr/local/lib/python3.7/dist-packages (from importlib-metadata; python_version < \"3.8\"->transformers>=2.1.1->fitbert) (3.4.1)\n",
            "Requirement already satisfied: click in /usr/local/lib/python3.7/dist-packages (from sacremoses->transformers>=2.1.1->fitbert) (7.1.2)\n",
            "Requirement already satisfied: joblib in /usr/local/lib/python3.7/dist-packages (from sacremoses->transformers>=2.1.1->fitbert) (1.0.1)\n",
            "Requirement already satisfied: pyparsing>=2.0.2 in /usr/local/lib/python3.7/dist-packages (from packaging->transformers>=2.1.1->fitbert) (2.4.7)\n",
            "Requirement already satisfied: idna<3,>=2.5 in /usr/local/lib/python3.7/dist-packages (from requests->transformers>=2.1.1->fitbert) (2.10)\n",
            "Requirement already satisfied: certifi>=2017.4.17 in /usr/local/lib/python3.7/dist-packages (from requests->transformers>=2.1.1->fitbert) (2020.12.5)\n",
            "Requirement already satisfied: urllib3!=1.25.0,!=1.25.1,<1.26,>=1.21.1 in /usr/local/lib/python3.7/dist-packages (from requests->transformers>=2.1.1->fitbert) (1.24.3)\n",
            "Requirement already satisfied: chardet<4,>=3.0.2 in /usr/local/lib/python3.7/dist-packages (from requests->transformers>=2.1.1->fitbert) (3.0.4)\n",
            "Building wheels for collected packages: fitbert, sacremoses, dill\n",
            "  Building wheel for fitbert (setup.py) ... \u001b[?25l\u001b[?25hdone\n",
            "  Created wheel for fitbert: filename=fitbert-0.9.0-cp37-none-any.whl size=214165 sha256=ae9dca269c84bf7ee3a1261ea303d6720a253f666867d12f1aa42a80b409d814\n",
            "  Stored in directory: /root/.cache/pip/wheels/96/e2/5b/b847ce6a5fac79014a603441cc446fda9e6f7099da0da8d8b0\n",
            "  Building wheel for sacremoses (setup.py) ... \u001b[?25l\u001b[?25hdone\n",
            "  Created wheel for sacremoses: filename=sacremoses-0.0.44-cp37-none-any.whl size=886084 sha256=100d794d96a81a91b87795a92b73baebf33197da0e805d58dc3f06d0ebc0d513\n",
            "  Stored in directory: /root/.cache/pip/wheels/3e/fb/c0/13ab4d63d537658f448366744654323077c4d90069b6512f3c\n",
            "  Building wheel for dill (setup.py) ... \u001b[?25l\u001b[?25hdone\n",
            "  Created wheel for dill: filename=dill-0.2.5-cp37-none-any.whl size=52423 sha256=3fb5e25f463d04256e7cc8aa8518e1927921cd25819ac8165370014371485a8c\n",
            "  Stored in directory: /root/.cache/pip/wheels/d0/f9/bb/01e2c9bc71ab75df06848f7eb23aa58b0e24713332aee81aa2\n",
            "Successfully built fitbert sacremoses dill\n",
            "\u001b[31mERROR: multiprocess 0.70.11.1 has requirement dill>=0.3.3, but you'll have dill 0.2.5 which is incompatible.\u001b[0m\n",
            "Installing collected packages: sacremoses, tokenizers, transformers, dill, PyFunctional, fitbert\n",
            "  Found existing installation: dill 0.3.3\n",
            "    Uninstalling dill-0.3.3:\n",
            "      Successfully uninstalled dill-0.3.3\n",
            "Successfully installed PyFunctional-1.2.0 dill-0.2.5 fitbert-0.9.0 sacremoses-0.0.44 tokenizers-0.10.1 transformers-4.4.2\n"
          ],
          "name": "stdout"
        }
      ]
    },
    {
      "cell_type": "code",
      "metadata": {
        "id": "OO7l1jiNMAWo"
      },
      "source": [
        "from pytorch_pretrained_bert import OpenAIGPTTokenizer, OpenAIGPTModel, OpenAIGPTLMHeadModel"
      ],
      "execution_count": null,
      "outputs": []
    },
    {
      "cell_type": "code",
      "metadata": {
        "colab": {
          "base_uri": "https://localhost:8080/"
        },
        "id": "oIikVM6hIMMh",
        "outputId": "52075f35-212b-4ec4-bb3d-86f221825ff1"
      },
      "source": [
        "from fitbert import FitBert\n",
        "#from transformers import OpenAIGPTTokenizer, OpenAIGPTMHeadModel\n",
        "model = OpenAIGPTLMHeadModel.from_pretrained('openai-gpt')\n",
        "model.eval()\n",
        "tokenizer = OpenAIGPTTokenizer.from_pretrained('openai-gpt')\n",
        "import torch\n",
        "import math\n",
        "from pytorch_pretrained_bert import OpenAIGPTTokenizer, OpenAIGPTModel, OpenAIGPTLMHeadModel"
      ],
      "execution_count": null,
      "outputs": [
        {
          "output_type": "stream",
          "text": [
            "100%|██████████| 478750579/478750579 [00:09<00:00, 51591323.40B/s]\n",
            "100%|██████████| 656/656 [00:00<00:00, 305107.94B/s]\n",
            "100%|██████████| 815973/815973 [00:00<00:00, 28492780.46B/s]\n",
            "100%|██████████| 458495/458495 [00:00<00:00, 21325712.08B/s]\n",
            "ftfy or spacy is not installed using BERT BasicTokenizer instead of SpaCy & ftfy.\n"
          ],
          "name": "stderr"
        }
      ]
    },
    {
      "cell_type": "code",
      "metadata": {
        "id": "NzN8FpnnIWID"
      },
      "source": [
        "def score(sentence):\n",
        "    tokenize_input = tokenizer.tokenize(sentence)\n",
        "    tensor_input = torch.tensor([tokenizer.convert_tokens_to_ids(tokenize_input)])\n",
        "    loss=model(tensor_input, lm_labels=tensor_input)\n",
        "    return math.exp(loss)\n"
      ],
      "execution_count": null,
      "outputs": []
    },
    {
      "cell_type": "code",
      "metadata": {
        "id": "qROde9_qMoaP"
      },
      "source": [
        "fb = FitBert()"
      ],
      "execution_count": null,
      "outputs": []
    },
    {
      "cell_type": "code",
      "metadata": {
        "id": "uShVKVfGIaON"
      },
      "source": [
        "\n",
        "def ans(fb, sent, options):\n",
        "    mask = \"***mask***\"\n",
        "    best_sent = \"\"\n",
        "    best_score = 1000000000\n",
        "    i=0\n",
        "    while(i<len(sent)):\n",
        "        s = \"\"\n",
        "        if (sent[0][0].isupper() and i==0):\n",
        "            i+=1\n",
        "            continue\n",
        "        j=0\n",
        "        while(j<(len(sent))):\n",
        "            if i==j:\n",
        "                s += mask + \" \"\n",
        "            s += sent[j] + \" \"\n",
        "            j+=1\n",
        "        #print(s)\n",
        "        temp_scr,temp_sent = best(fb, s, options)\n",
        "\n",
        "        if temp_scr < best_score:\n",
        "            best_score = temp_scr\n",
        "            best_sent = temp_sent\n",
        "        i+=1\n",
        "    s=\"\"\n",
        "    for j in range(len(sent)):\n",
        "        s += sent[j] + \" \"\n",
        "    s += mask\n",
        "    #print(s)\n",
        "    temp_scr,temp_sent= best(fb, s, options)\n",
        "\n",
        "    if temp_scr < best_score:\n",
        "        best_score = temp_scr\n",
        "        best_sent = temp_sent\n",
        "\n",
        "    return best_sent\n",
        "def best(fb, s, opt):\n",
        "    filled_in = fb.fitb(s, options = opt)\n",
        "    scr = score(filled_in)\n",
        "    return scr,filled_in\n",
        "\n",
        "f1=open(\"output.txt\",\"w\")\n",
        "for sent in lst2:\n",
        "    st = sent.split(\" \")\n",
        "    res = ans(fb, st, wordlst)\n",
        "    f1.write(res)\n",
        "    f1.write(\"\\n\")\n",
        "f1.close()"
      ],
      "execution_count": null,
      "outputs": []
    },
    {
      "cell_type": "code",
      "metadata": {
        "id": "rqm_M7IZNebA"
      },
      "source": [
        "\n",
        "for st in res:\n",
        "  f1.write(st)\n",
        "f1.close()"
      ],
      "execution_count": null,
      "outputs": []
    }
  ]
}